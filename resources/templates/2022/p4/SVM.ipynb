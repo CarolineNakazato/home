{
  "nbformat": 4,
  "nbformat_minor": 0,
  "metadata": {
    "colab": {
      "name": "SVM",
      "provenance": [],
      "collapsed_sections": []
    },
    "kernelspec": {
      "name": "python3",
      "display_name": "Python 3"
    }
  },
  "cells": [
    {
      "cell_type": "markdown",
      "source": [
        "Caroline Gerbaudo Nakazato RA 168913"
      ],
      "metadata": {
        "id": "ytv32Dw6VvBG"
      }
    },
    {
      "cell_type": "code",
      "metadata": {
        "id": "VgPd1fjcOKlg"
      },
      "source": [
        "\n",
        "import pandas as pd\n",
        "from sklearn import svm\n",
        "from sklearn.model_selection import GridSearchCV\n",
        "import os\n",
        "import matplotlib.pyplot as plt\n",
        "from skimage.transform import resize\n",
        "from skimage.io import imread\n",
        "import numpy as np\n",
        "from sklearn.model_selection import train_test_split\n",
        "from sklearn.metrics import classification_report,accuracy_score,confusion_matrix\n",
        "import pickle\n",
        "\n"
      ],
      "execution_count": 1,
      "outputs": []
    },
    {
      "cell_type": "code",
      "metadata": {
        "colab": {
          "base_uri": "https://localhost:8080/"
        },
        "id": "umZtNj4CTllG",
        "outputId": "b2871312-c784-4610-a428-aae1c81cb3ef"
      },
      "source": [
        "Categories=['AVC','EM']\n",
        "print(\"Type y to give categories or type n to go with classification of AVC and EM\");\n",
        "\n",
        "while(True):\n",
        "  check=input()\n",
        "  if(check=='n' or check=='y'):\n",
        "    break\n",
        "  print(\"Please give a valid input (y/n)\")\n",
        "if(check=='y'):\n",
        "  print(\"Enter How Many types of Images do you want to classify\")\n",
        "  n=int(input())\n",
        "  Categories=[]\n",
        "  print(f'please enter {n} names')\n",
        "  for i in range(n):\n",
        "    name=input()\n",
        "    Categories.append(name)\n",
        "  print(f\"If not drive Please upload all the {n} category images in google collab with the same names as given in categories\")\n",
        "\n"
      ],
      "execution_count": 2,
      "outputs": [
        {
          "name": "stdout",
          "output_type": "stream",
          "text": [
            "Type y to give categories or type n to go with classification of AVC and EM\n",
            "n\n"
          ]
        }
      ]
    },
    {
      "cell_type": "code",
      "source": [
        "from google.colab import drive\n",
        "drive.mount('/content/drive')"
      ],
      "metadata": {
        "colab": {
          "base_uri": "https://localhost:8080/"
        },
        "id": "6Q0CjtDP4d9V",
        "outputId": "0fcdae9f-8b07-46fb-dcf7-1272bb4319c1"
      },
      "execution_count": 3,
      "outputs": [
        {
          "output_type": "stream",
          "name": "stdout",
          "text": [
            "Mounted at /content/drive\n"
          ]
        }
      ]
    },
    {
      "cell_type": "code",
      "metadata": {
        "colab": {
          "base_uri": "https://localhost:8080/",
          "height": 497
        },
        "id": "XdGD-XpMYUjJ",
        "outputId": "ec0bc1a1-d02f-46f1-fcba-3fdab57e6cd4"
      },
      "source": [
        "flat_data_arr=[]\n",
        "target_arr=[]\n",
        "datadir='/content/drive/MyDrive/Train'\n",
        "for i in Categories:\n",
        "  print(f'loading... categoria : {i}')\n",
        "  path=os.path.join(datadir,i)\n",
        "  for img in os.listdir(path):\n",
        "    img_array=imread(os.path.join(path,img))\n",
        "    img_resized=resize(img_array,(150,150,3))\n",
        "    flat_data_arr.append(img_resized.flatten())\n",
        "    target_arr.append(Categories.index(i))\n",
        "  print(f'loaded categoria:{i} sucesso')\n",
        "flat_data=np.array(flat_data_arr)\n",
        "target=np.array(target_arr)\n",
        "df=pd.DataFrame(flat_data)\n",
        "df['Target']=target\n",
        "df"
      ],
      "execution_count": 4,
      "outputs": [
        {
          "output_type": "stream",
          "name": "stdout",
          "text": [
            "loading... categoria : AVC\n",
            "loaded categoria:AVC sucesso\n",
            "loading... categoria : EM\n",
            "loaded categoria:EM sucesso\n"
          ]
        },
        {
          "output_type": "execute_result",
          "data": {
            "text/plain": [
              "       0    1    2    3    4    5    6    7    8    9  ...  67491  67492  \\\n",
              "0    0.0  0.0  0.0  0.0  0.0  0.0  0.0  0.0  0.0  0.0  ...    0.0    0.0   \n",
              "1    0.0  0.0  0.0  0.0  0.0  0.0  0.0  0.0  0.0  0.0  ...    0.0    0.0   \n",
              "2    0.0  0.0  0.0  0.0  0.0  0.0  0.0  0.0  0.0  0.0  ...    0.0    0.0   \n",
              "3    0.0  0.0  0.0  0.0  0.0  0.0  0.0  0.0  0.0  0.0  ...    0.0    0.0   \n",
              "4    0.0  0.0  0.0  0.0  0.0  0.0  0.0  0.0  0.0  0.0  ...    0.0    0.0   \n",
              "..   ...  ...  ...  ...  ...  ...  ...  ...  ...  ...  ...    ...    ...   \n",
              "286  0.0  0.0  0.0  0.0  0.0  0.0  0.0  0.0  0.0  0.0  ...    0.0    0.0   \n",
              "287  0.0  0.0  0.0  0.0  0.0  0.0  0.0  0.0  0.0  0.0  ...    0.0    0.0   \n",
              "288  0.0  0.0  0.0  0.0  0.0  0.0  0.0  0.0  0.0  0.0  ...    0.0    0.0   \n",
              "289  0.0  0.0  0.0  0.0  0.0  0.0  0.0  0.0  0.0  0.0  ...    0.0    0.0   \n",
              "290  0.0  0.0  0.0  0.0  0.0  0.0  0.0  0.0  0.0  0.0  ...    0.0    0.0   \n",
              "\n",
              "     67493  67494  67495  67496  67497  67498  67499  Target  \n",
              "0      0.0    0.0    0.0    0.0    0.0    0.0    0.0       0  \n",
              "1      0.0    0.0    0.0    0.0    0.0    0.0    0.0       0  \n",
              "2      0.0    0.0    0.0    0.0    0.0    0.0    0.0       0  \n",
              "3      0.0    0.0    0.0    0.0    0.0    0.0    0.0       0  \n",
              "4      0.0    0.0    0.0    0.0    0.0    0.0    0.0       0  \n",
              "..     ...    ...    ...    ...    ...    ...    ...     ...  \n",
              "286    0.0    0.0    0.0    0.0    0.0    0.0    0.0       1  \n",
              "287    0.0    0.0    0.0    0.0    0.0    0.0    0.0       1  \n",
              "288    0.0    0.0    0.0    0.0    0.0    0.0    0.0       1  \n",
              "289    0.0    0.0    0.0    0.0    0.0    0.0    0.0       1  \n",
              "290    0.0    0.0    0.0    0.0    0.0    0.0    0.0       1  \n",
              "\n",
              "[291 rows x 67501 columns]"
            ],
            "text/html": [
              "\n",
              "  <div id=\"df-0f244eb0-77e7-471b-b807-be8e712b9597\">\n",
              "    <div class=\"colab-df-container\">\n",
              "      <div>\n",
              "<style scoped>\n",
              "    .dataframe tbody tr th:only-of-type {\n",
              "        vertical-align: middle;\n",
              "    }\n",
              "\n",
              "    .dataframe tbody tr th {\n",
              "        vertical-align: top;\n",
              "    }\n",
              "\n",
              "    .dataframe thead th {\n",
              "        text-align: right;\n",
              "    }\n",
              "</style>\n",
              "<table border=\"1\" class=\"dataframe\">\n",
              "  <thead>\n",
              "    <tr style=\"text-align: right;\">\n",
              "      <th></th>\n",
              "      <th>0</th>\n",
              "      <th>1</th>\n",
              "      <th>2</th>\n",
              "      <th>3</th>\n",
              "      <th>4</th>\n",
              "      <th>5</th>\n",
              "      <th>6</th>\n",
              "      <th>7</th>\n",
              "      <th>8</th>\n",
              "      <th>9</th>\n",
              "      <th>...</th>\n",
              "      <th>67491</th>\n",
              "      <th>67492</th>\n",
              "      <th>67493</th>\n",
              "      <th>67494</th>\n",
              "      <th>67495</th>\n",
              "      <th>67496</th>\n",
              "      <th>67497</th>\n",
              "      <th>67498</th>\n",
              "      <th>67499</th>\n",
              "      <th>Target</th>\n",
              "    </tr>\n",
              "  </thead>\n",
              "  <tbody>\n",
              "    <tr>\n",
              "      <th>0</th>\n",
              "      <td>0.0</td>\n",
              "      <td>0.0</td>\n",
              "      <td>0.0</td>\n",
              "      <td>0.0</td>\n",
              "      <td>0.0</td>\n",
              "      <td>0.0</td>\n",
              "      <td>0.0</td>\n",
              "      <td>0.0</td>\n",
              "      <td>0.0</td>\n",
              "      <td>0.0</td>\n",
              "      <td>...</td>\n",
              "      <td>0.0</td>\n",
              "      <td>0.0</td>\n",
              "      <td>0.0</td>\n",
              "      <td>0.0</td>\n",
              "      <td>0.0</td>\n",
              "      <td>0.0</td>\n",
              "      <td>0.0</td>\n",
              "      <td>0.0</td>\n",
              "      <td>0.0</td>\n",
              "      <td>0</td>\n",
              "    </tr>\n",
              "    <tr>\n",
              "      <th>1</th>\n",
              "      <td>0.0</td>\n",
              "      <td>0.0</td>\n",
              "      <td>0.0</td>\n",
              "      <td>0.0</td>\n",
              "      <td>0.0</td>\n",
              "      <td>0.0</td>\n",
              "      <td>0.0</td>\n",
              "      <td>0.0</td>\n",
              "      <td>0.0</td>\n",
              "      <td>0.0</td>\n",
              "      <td>...</td>\n",
              "      <td>0.0</td>\n",
              "      <td>0.0</td>\n",
              "      <td>0.0</td>\n",
              "      <td>0.0</td>\n",
              "      <td>0.0</td>\n",
              "      <td>0.0</td>\n",
              "      <td>0.0</td>\n",
              "      <td>0.0</td>\n",
              "      <td>0.0</td>\n",
              "      <td>0</td>\n",
              "    </tr>\n",
              "    <tr>\n",
              "      <th>2</th>\n",
              "      <td>0.0</td>\n",
              "      <td>0.0</td>\n",
              "      <td>0.0</td>\n",
              "      <td>0.0</td>\n",
              "      <td>0.0</td>\n",
              "      <td>0.0</td>\n",
              "      <td>0.0</td>\n",
              "      <td>0.0</td>\n",
              "      <td>0.0</td>\n",
              "      <td>0.0</td>\n",
              "      <td>...</td>\n",
              "      <td>0.0</td>\n",
              "      <td>0.0</td>\n",
              "      <td>0.0</td>\n",
              "      <td>0.0</td>\n",
              "      <td>0.0</td>\n",
              "      <td>0.0</td>\n",
              "      <td>0.0</td>\n",
              "      <td>0.0</td>\n",
              "      <td>0.0</td>\n",
              "      <td>0</td>\n",
              "    </tr>\n",
              "    <tr>\n",
              "      <th>3</th>\n",
              "      <td>0.0</td>\n",
              "      <td>0.0</td>\n",
              "      <td>0.0</td>\n",
              "      <td>0.0</td>\n",
              "      <td>0.0</td>\n",
              "      <td>0.0</td>\n",
              "      <td>0.0</td>\n",
              "      <td>0.0</td>\n",
              "      <td>0.0</td>\n",
              "      <td>0.0</td>\n",
              "      <td>...</td>\n",
              "      <td>0.0</td>\n",
              "      <td>0.0</td>\n",
              "      <td>0.0</td>\n",
              "      <td>0.0</td>\n",
              "      <td>0.0</td>\n",
              "      <td>0.0</td>\n",
              "      <td>0.0</td>\n",
              "      <td>0.0</td>\n",
              "      <td>0.0</td>\n",
              "      <td>0</td>\n",
              "    </tr>\n",
              "    <tr>\n",
              "      <th>4</th>\n",
              "      <td>0.0</td>\n",
              "      <td>0.0</td>\n",
              "      <td>0.0</td>\n",
              "      <td>0.0</td>\n",
              "      <td>0.0</td>\n",
              "      <td>0.0</td>\n",
              "      <td>0.0</td>\n",
              "      <td>0.0</td>\n",
              "      <td>0.0</td>\n",
              "      <td>0.0</td>\n",
              "      <td>...</td>\n",
              "      <td>0.0</td>\n",
              "      <td>0.0</td>\n",
              "      <td>0.0</td>\n",
              "      <td>0.0</td>\n",
              "      <td>0.0</td>\n",
              "      <td>0.0</td>\n",
              "      <td>0.0</td>\n",
              "      <td>0.0</td>\n",
              "      <td>0.0</td>\n",
              "      <td>0</td>\n",
              "    </tr>\n",
              "    <tr>\n",
              "      <th>...</th>\n",
              "      <td>...</td>\n",
              "      <td>...</td>\n",
              "      <td>...</td>\n",
              "      <td>...</td>\n",
              "      <td>...</td>\n",
              "      <td>...</td>\n",
              "      <td>...</td>\n",
              "      <td>...</td>\n",
              "      <td>...</td>\n",
              "      <td>...</td>\n",
              "      <td>...</td>\n",
              "      <td>...</td>\n",
              "      <td>...</td>\n",
              "      <td>...</td>\n",
              "      <td>...</td>\n",
              "      <td>...</td>\n",
              "      <td>...</td>\n",
              "      <td>...</td>\n",
              "      <td>...</td>\n",
              "      <td>...</td>\n",
              "      <td>...</td>\n",
              "    </tr>\n",
              "    <tr>\n",
              "      <th>286</th>\n",
              "      <td>0.0</td>\n",
              "      <td>0.0</td>\n",
              "      <td>0.0</td>\n",
              "      <td>0.0</td>\n",
              "      <td>0.0</td>\n",
              "      <td>0.0</td>\n",
              "      <td>0.0</td>\n",
              "      <td>0.0</td>\n",
              "      <td>0.0</td>\n",
              "      <td>0.0</td>\n",
              "      <td>...</td>\n",
              "      <td>0.0</td>\n",
              "      <td>0.0</td>\n",
              "      <td>0.0</td>\n",
              "      <td>0.0</td>\n",
              "      <td>0.0</td>\n",
              "      <td>0.0</td>\n",
              "      <td>0.0</td>\n",
              "      <td>0.0</td>\n",
              "      <td>0.0</td>\n",
              "      <td>1</td>\n",
              "    </tr>\n",
              "    <tr>\n",
              "      <th>287</th>\n",
              "      <td>0.0</td>\n",
              "      <td>0.0</td>\n",
              "      <td>0.0</td>\n",
              "      <td>0.0</td>\n",
              "      <td>0.0</td>\n",
              "      <td>0.0</td>\n",
              "      <td>0.0</td>\n",
              "      <td>0.0</td>\n",
              "      <td>0.0</td>\n",
              "      <td>0.0</td>\n",
              "      <td>...</td>\n",
              "      <td>0.0</td>\n",
              "      <td>0.0</td>\n",
              "      <td>0.0</td>\n",
              "      <td>0.0</td>\n",
              "      <td>0.0</td>\n",
              "      <td>0.0</td>\n",
              "      <td>0.0</td>\n",
              "      <td>0.0</td>\n",
              "      <td>0.0</td>\n",
              "      <td>1</td>\n",
              "    </tr>\n",
              "    <tr>\n",
              "      <th>288</th>\n",
              "      <td>0.0</td>\n",
              "      <td>0.0</td>\n",
              "      <td>0.0</td>\n",
              "      <td>0.0</td>\n",
              "      <td>0.0</td>\n",
              "      <td>0.0</td>\n",
              "      <td>0.0</td>\n",
              "      <td>0.0</td>\n",
              "      <td>0.0</td>\n",
              "      <td>0.0</td>\n",
              "      <td>...</td>\n",
              "      <td>0.0</td>\n",
              "      <td>0.0</td>\n",
              "      <td>0.0</td>\n",
              "      <td>0.0</td>\n",
              "      <td>0.0</td>\n",
              "      <td>0.0</td>\n",
              "      <td>0.0</td>\n",
              "      <td>0.0</td>\n",
              "      <td>0.0</td>\n",
              "      <td>1</td>\n",
              "    </tr>\n",
              "    <tr>\n",
              "      <th>289</th>\n",
              "      <td>0.0</td>\n",
              "      <td>0.0</td>\n",
              "      <td>0.0</td>\n",
              "      <td>0.0</td>\n",
              "      <td>0.0</td>\n",
              "      <td>0.0</td>\n",
              "      <td>0.0</td>\n",
              "      <td>0.0</td>\n",
              "      <td>0.0</td>\n",
              "      <td>0.0</td>\n",
              "      <td>...</td>\n",
              "      <td>0.0</td>\n",
              "      <td>0.0</td>\n",
              "      <td>0.0</td>\n",
              "      <td>0.0</td>\n",
              "      <td>0.0</td>\n",
              "      <td>0.0</td>\n",
              "      <td>0.0</td>\n",
              "      <td>0.0</td>\n",
              "      <td>0.0</td>\n",
              "      <td>1</td>\n",
              "    </tr>\n",
              "    <tr>\n",
              "      <th>290</th>\n",
              "      <td>0.0</td>\n",
              "      <td>0.0</td>\n",
              "      <td>0.0</td>\n",
              "      <td>0.0</td>\n",
              "      <td>0.0</td>\n",
              "      <td>0.0</td>\n",
              "      <td>0.0</td>\n",
              "      <td>0.0</td>\n",
              "      <td>0.0</td>\n",
              "      <td>0.0</td>\n",
              "      <td>...</td>\n",
              "      <td>0.0</td>\n",
              "      <td>0.0</td>\n",
              "      <td>0.0</td>\n",
              "      <td>0.0</td>\n",
              "      <td>0.0</td>\n",
              "      <td>0.0</td>\n",
              "      <td>0.0</td>\n",
              "      <td>0.0</td>\n",
              "      <td>0.0</td>\n",
              "      <td>1</td>\n",
              "    </tr>\n",
              "  </tbody>\n",
              "</table>\n",
              "<p>291 rows × 67501 columns</p>\n",
              "</div>\n",
              "      <button class=\"colab-df-convert\" onclick=\"convertToInteractive('df-0f244eb0-77e7-471b-b807-be8e712b9597')\"\n",
              "              title=\"Convert this dataframe to an interactive table.\"\n",
              "              style=\"display:none;\">\n",
              "        \n",
              "  <svg xmlns=\"http://www.w3.org/2000/svg\" height=\"24px\"viewBox=\"0 0 24 24\"\n",
              "       width=\"24px\">\n",
              "    <path d=\"M0 0h24v24H0V0z\" fill=\"none\"/>\n",
              "    <path d=\"M18.56 5.44l.94 2.06.94-2.06 2.06-.94-2.06-.94-.94-2.06-.94 2.06-2.06.94zm-11 1L8.5 8.5l.94-2.06 2.06-.94-2.06-.94L8.5 2.5l-.94 2.06-2.06.94zm10 10l.94 2.06.94-2.06 2.06-.94-2.06-.94-.94-2.06-.94 2.06-2.06.94z\"/><path d=\"M17.41 7.96l-1.37-1.37c-.4-.4-.92-.59-1.43-.59-.52 0-1.04.2-1.43.59L10.3 9.45l-7.72 7.72c-.78.78-.78 2.05 0 2.83L4 21.41c.39.39.9.59 1.41.59.51 0 1.02-.2 1.41-.59l7.78-7.78 2.81-2.81c.8-.78.8-2.07 0-2.86zM5.41 20L4 18.59l7.72-7.72 1.47 1.35L5.41 20z\"/>\n",
              "  </svg>\n",
              "      </button>\n",
              "      \n",
              "  <style>\n",
              "    .colab-df-container {\n",
              "      display:flex;\n",
              "      flex-wrap:wrap;\n",
              "      gap: 12px;\n",
              "    }\n",
              "\n",
              "    .colab-df-convert {\n",
              "      background-color: #E8F0FE;\n",
              "      border: none;\n",
              "      border-radius: 50%;\n",
              "      cursor: pointer;\n",
              "      display: none;\n",
              "      fill: #1967D2;\n",
              "      height: 32px;\n",
              "      padding: 0 0 0 0;\n",
              "      width: 32px;\n",
              "    }\n",
              "\n",
              "    .colab-df-convert:hover {\n",
              "      background-color: #E2EBFA;\n",
              "      box-shadow: 0px 1px 2px rgba(60, 64, 67, 0.3), 0px 1px 3px 1px rgba(60, 64, 67, 0.15);\n",
              "      fill: #174EA6;\n",
              "    }\n",
              "\n",
              "    [theme=dark] .colab-df-convert {\n",
              "      background-color: #3B4455;\n",
              "      fill: #D2E3FC;\n",
              "    }\n",
              "\n",
              "    [theme=dark] .colab-df-convert:hover {\n",
              "      background-color: #434B5C;\n",
              "      box-shadow: 0px 1px 3px 1px rgba(0, 0, 0, 0.15);\n",
              "      filter: drop-shadow(0px 1px 2px rgba(0, 0, 0, 0.3));\n",
              "      fill: #FFFFFF;\n",
              "    }\n",
              "  </style>\n",
              "\n",
              "      <script>\n",
              "        const buttonEl =\n",
              "          document.querySelector('#df-0f244eb0-77e7-471b-b807-be8e712b9597 button.colab-df-convert');\n",
              "        buttonEl.style.display =\n",
              "          google.colab.kernel.accessAllowed ? 'block' : 'none';\n",
              "\n",
              "        async function convertToInteractive(key) {\n",
              "          const element = document.querySelector('#df-0f244eb0-77e7-471b-b807-be8e712b9597');\n",
              "          const dataTable =\n",
              "            await google.colab.kernel.invokeFunction('convertToInteractive',\n",
              "                                                     [key], {});\n",
              "          if (!dataTable) return;\n",
              "\n",
              "          const docLinkHtml = 'Like what you see? Visit the ' +\n",
              "            '<a target=\"_blank\" href=https://colab.research.google.com/notebooks/data_table.ipynb>data table notebook</a>'\n",
              "            + ' to learn more about interactive tables.';\n",
              "          element.innerHTML = '';\n",
              "          dataTable['output_type'] = 'display_data';\n",
              "          await google.colab.output.renderOutput(dataTable, element);\n",
              "          const docLink = document.createElement('div');\n",
              "          docLink.innerHTML = docLinkHtml;\n",
              "          element.appendChild(docLink);\n",
              "        }\n",
              "      </script>\n",
              "    </div>\n",
              "  </div>\n",
              "  "
            ]
          },
          "metadata": {},
          "execution_count": 4
        }
      ]
    },
    {
      "cell_type": "markdown",
      "metadata": {
        "id": "gUp5FDqIY070"
      },
      "source": [
        "Dividindo os dados em dados de treinamento e teste"
      ]
    },
    {
      "cell_type": "code",
      "metadata": {
        "colab": {
          "base_uri": "https://localhost:8080/"
        },
        "id": "Jg3XHRP3OUyf",
        "outputId": "c7b8f3f7-30c2-44fd-c997-8e08cf5ee0d8"
      },
      "source": [
        "x=df.iloc[:,:-1]\n",
        "y=df.iloc[:,-1]\n",
        "x_train,x_test,y_train,y_test=train_test_split(x,y,test_size=0.20,random_state=77,stratify=y)\n",
        "print('dividido com sucesso')"
      ],
      "execution_count": 5,
      "outputs": [
        {
          "output_type": "stream",
          "name": "stdout",
          "text": [
            "dividido com sucesso\n"
          ]
        }
      ]
    },
    {
      "cell_type": "code",
      "metadata": {
        "colab": {
          "base_uri": "https://localhost:8080/"
        },
        "id": "DIaIT2GlOvy6",
        "outputId": "db7b86f3-f760-4113-d34e-3a9937cd04da"
      },
      "source": [
        "param_grid={'C':[0.1,1,10,100],'gamma':[0.0001,0.001,0.1,1],'kernel':['rbf','poly']}\n",
        "svc=svm.SVC(probability=True)\n",
        "print('O treinamento do modelo foi iniciado, aguarde um pouco, pois pode levar alguns minutos para ser concluído')\n",
        "model=GridSearchCV(svc,param_grid)\n",
        "model.fit(x_train,y_train)\n",
        "print('O modelo é bem treinado com as imagens fornecidas')\n",
        "model.best_params_"
      ],
      "execution_count": 6,
      "outputs": [
        {
          "output_type": "stream",
          "name": "stdout",
          "text": [
            "O treinamento do modelo foi iniciado, aguarde um pouco, pois pode levar alguns minutos para ser concluído\n",
            "O modelo é bem treinado com as imagens fornecidas\n"
          ]
        },
        {
          "output_type": "execute_result",
          "data": {
            "text/plain": [
              "{'C': 1, 'gamma': 0.001, 'kernel': 'rbf'}"
            ]
          },
          "metadata": {},
          "execution_count": 6
        }
      ]
    },
    {
      "cell_type": "code",
      "source": [
        "pd.DataFrame(model.cv_results_)[['params','rank_test_score','mean_test_score']]"
      ],
      "metadata": {
        "colab": {
          "base_uri": "https://localhost:8080/",
          "height": 1000
        },
        "id": "HzJkD8KVbN4U",
        "outputId": "7b93d70d-83d1-4a19-e1c4-79c6628455be"
      },
      "execution_count": 7,
      "outputs": [
        {
          "output_type": "execute_result",
          "data": {
            "text/plain": [
              "                                           params  rank_test_score  \\\n",
              "0    {'C': 0.1, 'gamma': 0.0001, 'kernel': 'rbf'}                7   \n",
              "1   {'C': 0.1, 'gamma': 0.0001, 'kernel': 'poly'}               24   \n",
              "2     {'C': 0.1, 'gamma': 0.001, 'kernel': 'rbf'}                6   \n",
              "3    {'C': 0.1, 'gamma': 0.001, 'kernel': 'poly'}               11   \n",
              "4       {'C': 0.1, 'gamma': 0.1, 'kernel': 'rbf'}               25   \n",
              "5      {'C': 0.1, 'gamma': 0.1, 'kernel': 'poly'}               11   \n",
              "6         {'C': 0.1, 'gamma': 1, 'kernel': 'rbf'}               25   \n",
              "7        {'C': 0.1, 'gamma': 1, 'kernel': 'poly'}               11   \n",
              "8      {'C': 1, 'gamma': 0.0001, 'kernel': 'rbf'}                2   \n",
              "9     {'C': 1, 'gamma': 0.0001, 'kernel': 'poly'}               10   \n",
              "10      {'C': 1, 'gamma': 0.001, 'kernel': 'rbf'}                1   \n",
              "11     {'C': 1, 'gamma': 0.001, 'kernel': 'poly'}               11   \n",
              "12        {'C': 1, 'gamma': 0.1, 'kernel': 'rbf'}               25   \n",
              "13       {'C': 1, 'gamma': 0.1, 'kernel': 'poly'}               11   \n",
              "14          {'C': 1, 'gamma': 1, 'kernel': 'rbf'}               25   \n",
              "15         {'C': 1, 'gamma': 1, 'kernel': 'poly'}               11   \n",
              "16    {'C': 10, 'gamma': 0.0001, 'kernel': 'rbf'}                3   \n",
              "17   {'C': 10, 'gamma': 0.0001, 'kernel': 'poly'}                9   \n",
              "18     {'C': 10, 'gamma': 0.001, 'kernel': 'rbf'}                3   \n",
              "19    {'C': 10, 'gamma': 0.001, 'kernel': 'poly'}               11   \n",
              "20       {'C': 10, 'gamma': 0.1, 'kernel': 'rbf'}               25   \n",
              "21      {'C': 10, 'gamma': 0.1, 'kernel': 'poly'}               11   \n",
              "22         {'C': 10, 'gamma': 1, 'kernel': 'rbf'}               25   \n",
              "23        {'C': 10, 'gamma': 1, 'kernel': 'poly'}               11   \n",
              "24   {'C': 100, 'gamma': 0.0001, 'kernel': 'rbf'}                8   \n",
              "25  {'C': 100, 'gamma': 0.0001, 'kernel': 'poly'}               11   \n",
              "26    {'C': 100, 'gamma': 0.001, 'kernel': 'rbf'}                3   \n",
              "27   {'C': 100, 'gamma': 0.001, 'kernel': 'poly'}               11   \n",
              "28      {'C': 100, 'gamma': 0.1, 'kernel': 'rbf'}               25   \n",
              "29     {'C': 100, 'gamma': 0.1, 'kernel': 'poly'}               11   \n",
              "30        {'C': 100, 'gamma': 1, 'kernel': 'rbf'}               25   \n",
              "31       {'C': 100, 'gamma': 1, 'kernel': 'poly'}               11   \n",
              "\n",
              "    mean_test_score  \n",
              "0          0.892692  \n",
              "1          0.815079  \n",
              "2          0.897040  \n",
              "3          0.858094  \n",
              "4          0.517299  \n",
              "5          0.858094  \n",
              "6          0.517299  \n",
              "7          0.858094  \n",
              "8          0.905735  \n",
              "9          0.866605  \n",
              "10         0.909991  \n",
              "11         0.858094  \n",
              "12         0.517299  \n",
              "13         0.858094  \n",
              "14         0.517299  \n",
              "15         0.858094  \n",
              "16         0.905643  \n",
              "17         0.866790  \n",
              "18         0.905643  \n",
              "19         0.858094  \n",
              "20         0.517299  \n",
              "21         0.858094  \n",
              "22         0.517299  \n",
              "23         0.858094  \n",
              "24         0.892507  \n",
              "25         0.858094  \n",
              "26         0.905643  \n",
              "27         0.858094  \n",
              "28         0.517299  \n",
              "29         0.858094  \n",
              "30         0.517299  \n",
              "31         0.858094  "
            ],
            "text/html": [
              "\n",
              "  <div id=\"df-f532ca70-30ed-4574-96a6-6335b4e5117c\">\n",
              "    <div class=\"colab-df-container\">\n",
              "      <div>\n",
              "<style scoped>\n",
              "    .dataframe tbody tr th:only-of-type {\n",
              "        vertical-align: middle;\n",
              "    }\n",
              "\n",
              "    .dataframe tbody tr th {\n",
              "        vertical-align: top;\n",
              "    }\n",
              "\n",
              "    .dataframe thead th {\n",
              "        text-align: right;\n",
              "    }\n",
              "</style>\n",
              "<table border=\"1\" class=\"dataframe\">\n",
              "  <thead>\n",
              "    <tr style=\"text-align: right;\">\n",
              "      <th></th>\n",
              "      <th>params</th>\n",
              "      <th>rank_test_score</th>\n",
              "      <th>mean_test_score</th>\n",
              "    </tr>\n",
              "  </thead>\n",
              "  <tbody>\n",
              "    <tr>\n",
              "      <th>0</th>\n",
              "      <td>{'C': 0.1, 'gamma': 0.0001, 'kernel': 'rbf'}</td>\n",
              "      <td>7</td>\n",
              "      <td>0.892692</td>\n",
              "    </tr>\n",
              "    <tr>\n",
              "      <th>1</th>\n",
              "      <td>{'C': 0.1, 'gamma': 0.0001, 'kernel': 'poly'}</td>\n",
              "      <td>24</td>\n",
              "      <td>0.815079</td>\n",
              "    </tr>\n",
              "    <tr>\n",
              "      <th>2</th>\n",
              "      <td>{'C': 0.1, 'gamma': 0.001, 'kernel': 'rbf'}</td>\n",
              "      <td>6</td>\n",
              "      <td>0.897040</td>\n",
              "    </tr>\n",
              "    <tr>\n",
              "      <th>3</th>\n",
              "      <td>{'C': 0.1, 'gamma': 0.001, 'kernel': 'poly'}</td>\n",
              "      <td>11</td>\n",
              "      <td>0.858094</td>\n",
              "    </tr>\n",
              "    <tr>\n",
              "      <th>4</th>\n",
              "      <td>{'C': 0.1, 'gamma': 0.1, 'kernel': 'rbf'}</td>\n",
              "      <td>25</td>\n",
              "      <td>0.517299</td>\n",
              "    </tr>\n",
              "    <tr>\n",
              "      <th>5</th>\n",
              "      <td>{'C': 0.1, 'gamma': 0.1, 'kernel': 'poly'}</td>\n",
              "      <td>11</td>\n",
              "      <td>0.858094</td>\n",
              "    </tr>\n",
              "    <tr>\n",
              "      <th>6</th>\n",
              "      <td>{'C': 0.1, 'gamma': 1, 'kernel': 'rbf'}</td>\n",
              "      <td>25</td>\n",
              "      <td>0.517299</td>\n",
              "    </tr>\n",
              "    <tr>\n",
              "      <th>7</th>\n",
              "      <td>{'C': 0.1, 'gamma': 1, 'kernel': 'poly'}</td>\n",
              "      <td>11</td>\n",
              "      <td>0.858094</td>\n",
              "    </tr>\n",
              "    <tr>\n",
              "      <th>8</th>\n",
              "      <td>{'C': 1, 'gamma': 0.0001, 'kernel': 'rbf'}</td>\n",
              "      <td>2</td>\n",
              "      <td>0.905735</td>\n",
              "    </tr>\n",
              "    <tr>\n",
              "      <th>9</th>\n",
              "      <td>{'C': 1, 'gamma': 0.0001, 'kernel': 'poly'}</td>\n",
              "      <td>10</td>\n",
              "      <td>0.866605</td>\n",
              "    </tr>\n",
              "    <tr>\n",
              "      <th>10</th>\n",
              "      <td>{'C': 1, 'gamma': 0.001, 'kernel': 'rbf'}</td>\n",
              "      <td>1</td>\n",
              "      <td>0.909991</td>\n",
              "    </tr>\n",
              "    <tr>\n",
              "      <th>11</th>\n",
              "      <td>{'C': 1, 'gamma': 0.001, 'kernel': 'poly'}</td>\n",
              "      <td>11</td>\n",
              "      <td>0.858094</td>\n",
              "    </tr>\n",
              "    <tr>\n",
              "      <th>12</th>\n",
              "      <td>{'C': 1, 'gamma': 0.1, 'kernel': 'rbf'}</td>\n",
              "      <td>25</td>\n",
              "      <td>0.517299</td>\n",
              "    </tr>\n",
              "    <tr>\n",
              "      <th>13</th>\n",
              "      <td>{'C': 1, 'gamma': 0.1, 'kernel': 'poly'}</td>\n",
              "      <td>11</td>\n",
              "      <td>0.858094</td>\n",
              "    </tr>\n",
              "    <tr>\n",
              "      <th>14</th>\n",
              "      <td>{'C': 1, 'gamma': 1, 'kernel': 'rbf'}</td>\n",
              "      <td>25</td>\n",
              "      <td>0.517299</td>\n",
              "    </tr>\n",
              "    <tr>\n",
              "      <th>15</th>\n",
              "      <td>{'C': 1, 'gamma': 1, 'kernel': 'poly'}</td>\n",
              "      <td>11</td>\n",
              "      <td>0.858094</td>\n",
              "    </tr>\n",
              "    <tr>\n",
              "      <th>16</th>\n",
              "      <td>{'C': 10, 'gamma': 0.0001, 'kernel': 'rbf'}</td>\n",
              "      <td>3</td>\n",
              "      <td>0.905643</td>\n",
              "    </tr>\n",
              "    <tr>\n",
              "      <th>17</th>\n",
              "      <td>{'C': 10, 'gamma': 0.0001, 'kernel': 'poly'}</td>\n",
              "      <td>9</td>\n",
              "      <td>0.866790</td>\n",
              "    </tr>\n",
              "    <tr>\n",
              "      <th>18</th>\n",
              "      <td>{'C': 10, 'gamma': 0.001, 'kernel': 'rbf'}</td>\n",
              "      <td>3</td>\n",
              "      <td>0.905643</td>\n",
              "    </tr>\n",
              "    <tr>\n",
              "      <th>19</th>\n",
              "      <td>{'C': 10, 'gamma': 0.001, 'kernel': 'poly'}</td>\n",
              "      <td>11</td>\n",
              "      <td>0.858094</td>\n",
              "    </tr>\n",
              "    <tr>\n",
              "      <th>20</th>\n",
              "      <td>{'C': 10, 'gamma': 0.1, 'kernel': 'rbf'}</td>\n",
              "      <td>25</td>\n",
              "      <td>0.517299</td>\n",
              "    </tr>\n",
              "    <tr>\n",
              "      <th>21</th>\n",
              "      <td>{'C': 10, 'gamma': 0.1, 'kernel': 'poly'}</td>\n",
              "      <td>11</td>\n",
              "      <td>0.858094</td>\n",
              "    </tr>\n",
              "    <tr>\n",
              "      <th>22</th>\n",
              "      <td>{'C': 10, 'gamma': 1, 'kernel': 'rbf'}</td>\n",
              "      <td>25</td>\n",
              "      <td>0.517299</td>\n",
              "    </tr>\n",
              "    <tr>\n",
              "      <th>23</th>\n",
              "      <td>{'C': 10, 'gamma': 1, 'kernel': 'poly'}</td>\n",
              "      <td>11</td>\n",
              "      <td>0.858094</td>\n",
              "    </tr>\n",
              "    <tr>\n",
              "      <th>24</th>\n",
              "      <td>{'C': 100, 'gamma': 0.0001, 'kernel': 'rbf'}</td>\n",
              "      <td>8</td>\n",
              "      <td>0.892507</td>\n",
              "    </tr>\n",
              "    <tr>\n",
              "      <th>25</th>\n",
              "      <td>{'C': 100, 'gamma': 0.0001, 'kernel': 'poly'}</td>\n",
              "      <td>11</td>\n",
              "      <td>0.858094</td>\n",
              "    </tr>\n",
              "    <tr>\n",
              "      <th>26</th>\n",
              "      <td>{'C': 100, 'gamma': 0.001, 'kernel': 'rbf'}</td>\n",
              "      <td>3</td>\n",
              "      <td>0.905643</td>\n",
              "    </tr>\n",
              "    <tr>\n",
              "      <th>27</th>\n",
              "      <td>{'C': 100, 'gamma': 0.001, 'kernel': 'poly'}</td>\n",
              "      <td>11</td>\n",
              "      <td>0.858094</td>\n",
              "    </tr>\n",
              "    <tr>\n",
              "      <th>28</th>\n",
              "      <td>{'C': 100, 'gamma': 0.1, 'kernel': 'rbf'}</td>\n",
              "      <td>25</td>\n",
              "      <td>0.517299</td>\n",
              "    </tr>\n",
              "    <tr>\n",
              "      <th>29</th>\n",
              "      <td>{'C': 100, 'gamma': 0.1, 'kernel': 'poly'}</td>\n",
              "      <td>11</td>\n",
              "      <td>0.858094</td>\n",
              "    </tr>\n",
              "    <tr>\n",
              "      <th>30</th>\n",
              "      <td>{'C': 100, 'gamma': 1, 'kernel': 'rbf'}</td>\n",
              "      <td>25</td>\n",
              "      <td>0.517299</td>\n",
              "    </tr>\n",
              "    <tr>\n",
              "      <th>31</th>\n",
              "      <td>{'C': 100, 'gamma': 1, 'kernel': 'poly'}</td>\n",
              "      <td>11</td>\n",
              "      <td>0.858094</td>\n",
              "    </tr>\n",
              "  </tbody>\n",
              "</table>\n",
              "</div>\n",
              "      <button class=\"colab-df-convert\" onclick=\"convertToInteractive('df-f532ca70-30ed-4574-96a6-6335b4e5117c')\"\n",
              "              title=\"Convert this dataframe to an interactive table.\"\n",
              "              style=\"display:none;\">\n",
              "        \n",
              "  <svg xmlns=\"http://www.w3.org/2000/svg\" height=\"24px\"viewBox=\"0 0 24 24\"\n",
              "       width=\"24px\">\n",
              "    <path d=\"M0 0h24v24H0V0z\" fill=\"none\"/>\n",
              "    <path d=\"M18.56 5.44l.94 2.06.94-2.06 2.06-.94-2.06-.94-.94-2.06-.94 2.06-2.06.94zm-11 1L8.5 8.5l.94-2.06 2.06-.94-2.06-.94L8.5 2.5l-.94 2.06-2.06.94zm10 10l.94 2.06.94-2.06 2.06-.94-2.06-.94-.94-2.06-.94 2.06-2.06.94z\"/><path d=\"M17.41 7.96l-1.37-1.37c-.4-.4-.92-.59-1.43-.59-.52 0-1.04.2-1.43.59L10.3 9.45l-7.72 7.72c-.78.78-.78 2.05 0 2.83L4 21.41c.39.39.9.59 1.41.59.51 0 1.02-.2 1.41-.59l7.78-7.78 2.81-2.81c.8-.78.8-2.07 0-2.86zM5.41 20L4 18.59l7.72-7.72 1.47 1.35L5.41 20z\"/>\n",
              "  </svg>\n",
              "      </button>\n",
              "      \n",
              "  <style>\n",
              "    .colab-df-container {\n",
              "      display:flex;\n",
              "      flex-wrap:wrap;\n",
              "      gap: 12px;\n",
              "    }\n",
              "\n",
              "    .colab-df-convert {\n",
              "      background-color: #E8F0FE;\n",
              "      border: none;\n",
              "      border-radius: 50%;\n",
              "      cursor: pointer;\n",
              "      display: none;\n",
              "      fill: #1967D2;\n",
              "      height: 32px;\n",
              "      padding: 0 0 0 0;\n",
              "      width: 32px;\n",
              "    }\n",
              "\n",
              "    .colab-df-convert:hover {\n",
              "      background-color: #E2EBFA;\n",
              "      box-shadow: 0px 1px 2px rgba(60, 64, 67, 0.3), 0px 1px 3px 1px rgba(60, 64, 67, 0.15);\n",
              "      fill: #174EA6;\n",
              "    }\n",
              "\n",
              "    [theme=dark] .colab-df-convert {\n",
              "      background-color: #3B4455;\n",
              "      fill: #D2E3FC;\n",
              "    }\n",
              "\n",
              "    [theme=dark] .colab-df-convert:hover {\n",
              "      background-color: #434B5C;\n",
              "      box-shadow: 0px 1px 3px 1px rgba(0, 0, 0, 0.15);\n",
              "      filter: drop-shadow(0px 1px 2px rgba(0, 0, 0, 0.3));\n",
              "      fill: #FFFFFF;\n",
              "    }\n",
              "  </style>\n",
              "\n",
              "      <script>\n",
              "        const buttonEl =\n",
              "          document.querySelector('#df-f532ca70-30ed-4574-96a6-6335b4e5117c button.colab-df-convert');\n",
              "        buttonEl.style.display =\n",
              "          google.colab.kernel.accessAllowed ? 'block' : 'none';\n",
              "\n",
              "        async function convertToInteractive(key) {\n",
              "          const element = document.querySelector('#df-f532ca70-30ed-4574-96a6-6335b4e5117c');\n",
              "          const dataTable =\n",
              "            await google.colab.kernel.invokeFunction('convertToInteractive',\n",
              "                                                     [key], {});\n",
              "          if (!dataTable) return;\n",
              "\n",
              "          const docLinkHtml = 'Like what you see? Visit the ' +\n",
              "            '<a target=\"_blank\" href=https://colab.research.google.com/notebooks/data_table.ipynb>data table notebook</a>'\n",
              "            + ' to learn more about interactive tables.';\n",
              "          element.innerHTML = '';\n",
              "          dataTable['output_type'] = 'display_data';\n",
              "          await google.colab.output.renderOutput(dataTable, element);\n",
              "          const docLink = document.createElement('div');\n",
              "          docLink.innerHTML = docLinkHtml;\n",
              "          element.appendChild(docLink);\n",
              "        }\n",
              "      </script>\n",
              "    </div>\n",
              "  </div>\n",
              "  "
            ]
          },
          "metadata": {},
          "execution_count": 7
        }
      ]
    },
    {
      "cell_type": "markdown",
      "metadata": {
        "id": "VWKN2_4eZZmF"
      },
      "source": [
        "Predicting our testing data"
      ]
    },
    {
      "cell_type": "code",
      "metadata": {
        "colab": {
          "base_uri": "https://localhost:8080/"
        },
        "id": "h7qEbNLoSAcS",
        "outputId": "2ea88171-3dd2-46f9-ae01-33acf9d63bdb"
      },
      "source": [
        "y_pred=model.predict(x_test)\n",
        "print(\"Os dados previstos são:\")\n",
        "y_pred"
      ],
      "execution_count": 8,
      "outputs": [
        {
          "output_type": "stream",
          "name": "stdout",
          "text": [
            "Os dados previstos são:\n"
          ]
        },
        {
          "output_type": "execute_result",
          "data": {
            "text/plain": [
              "array([0, 1, 0, 0, 1, 0, 1, 1, 1, 0, 0, 1, 0, 1, 0, 0, 0, 0, 0, 0, 1, 0,\n",
              "       0, 1, 0, 1, 1, 0, 0, 0, 1, 1, 1, 0, 0, 0, 1, 0, 1, 0, 0, 0, 1, 1,\n",
              "       1, 0, 0, 1, 0, 0, 1, 1, 1, 1, 1, 1, 0, 1, 1])"
            ]
          },
          "metadata": {},
          "execution_count": 8
        }
      ]
    },
    {
      "cell_type": "code",
      "metadata": {
        "colab": {
          "base_uri": "https://localhost:8080/"
        },
        "id": "A4rMJQ0HSCgU",
        "outputId": "35ea5da6-c1b4-4917-866f-d3a6b2c18da9"
      },
      "source": [
        "print(\"Os dados reais são:\")\n",
        "np.array(y_test)"
      ],
      "execution_count": 9,
      "outputs": [
        {
          "output_type": "stream",
          "name": "stdout",
          "text": [
            "Os dados reais são:\n"
          ]
        },
        {
          "output_type": "execute_result",
          "data": {
            "text/plain": [
              "array([1, 1, 0, 0, 1, 0, 1, 1, 1, 0, 0, 1, 0, 1, 0, 0, 0, 0, 0, 0, 1, 0,\n",
              "       0, 1, 0, 1, 1, 0, 0, 1, 1, 1, 1, 0, 0, 0, 1, 0, 1, 0, 0, 0, 1, 1,\n",
              "       1, 0, 0, 1, 0, 0, 1, 1, 1, 1, 1, 1, 0, 1, 1])"
            ]
          },
          "metadata": {},
          "execution_count": 9
        }
      ]
    },
    {
      "cell_type": "code",
      "source": [
        "print(classification_report(y_pred,y_test))\n",
        "print(\"Matriz de Confusao\")\n",
        "confusion_matrix(y_pred,y_test)"
      ],
      "metadata": {
        "colab": {
          "base_uri": "https://localhost:8080/"
        },
        "id": "blJmTKTwuUEU",
        "outputId": "562e8925-1e57-45bb-cc8b-64e02ad28f83"
      },
      "execution_count": 10,
      "outputs": [
        {
          "output_type": "stream",
          "name": "stdout",
          "text": [
            "              precision    recall  f1-score   support\n",
            "\n",
            "           0       1.00      0.94      0.97        31\n",
            "           1       0.93      1.00      0.97        28\n",
            "\n",
            "    accuracy                           0.97        59\n",
            "   macro avg       0.97      0.97      0.97        59\n",
            "weighted avg       0.97      0.97      0.97        59\n",
            "\n",
            "Matriz de Confusao\n"
          ]
        },
        {
          "output_type": "execute_result",
          "data": {
            "text/plain": [
              "array([[29,  2],\n",
              "       [ 0, 28]])"
            ]
          },
          "metadata": {},
          "execution_count": 10
        }
      ]
    },
    {
      "cell_type": "code",
      "metadata": {
        "colab": {
          "base_uri": "https://localhost:8080/"
        },
        "id": "ZwXKKc5FSFMf",
        "outputId": "2945ae7a-4484-499d-cc33-26f2048450c6"
      },
      "source": [
        "print(f\"O modelo tem {accuracy_score(y_pred,y_test)*100}% de acuracia\")"
      ],
      "execution_count": 11,
      "outputs": [
        {
          "output_type": "stream",
          "name": "stdout",
          "text": [
            "O modelo tem 96.61016949152543% de acuracia\n"
          ]
        }
      ]
    },
    {
      "cell_type": "markdown",
      "metadata": {
        "id": "B8rpwj-yX4hl"
      },
      "source": [
        "Usando o Pickle para salvar o modelo em disco"
      ]
    },
    {
      "cell_type": "code",
      "metadata": {
        "colab": {
          "base_uri": "https://localhost:8080/"
        },
        "id": "Jf8xp5BYp_7E",
        "outputId": "216b4705-d8f1-4e80-be0f-89acdb0ab60f"
      },
      "source": [
        "pickle.dump(model,open('img_model.p','wb'))\n",
        "print(\"Pickle ok\")"
      ],
      "execution_count": 12,
      "outputs": [
        {
          "output_type": "stream",
          "name": "stdout",
          "text": [
            "Pickle ok\n"
          ]
        }
      ]
    },
    {
      "cell_type": "markdown",
      "metadata": {
        "id": "D5j6KOPCZ8av"
      },
      "source": [
        "O modelo baseado em aprendizado de máquina é criado com sucesso.\n",
        "Teste do modelo:"
      ]
    },
    {
      "cell_type": "code",
      "metadata": {
        "id": "6MVmsPLdS6-X",
        "colab": {
          "base_uri": "https://localhost:8080/",
          "height": 398
        },
        "outputId": "e344c3b3-c6ae-44e8-8b36-b59eb5316291"
      },
      "source": [
        "#print(os.path.abspath(os.getcwd()))\n",
        "model=pickle.load(open('img_model.p','rb'))\n",
        "\n",
        "url=input('URL da Imagem: ')\n",
        "img=imread(url)\n",
        "plt.imshow(img)\n",
        "plt.show()\n",
        "img_resize=resize(img,(150,150,3))\n",
        "l=[img_resize.flatten()]\n",
        "probability=model.predict_proba(l)\n",
        "for ind,val in enumerate(Categories):\n",
        "  print(f'{val} = {probability[0][ind]*100}%')\n",
        "print(\"The predicted image is : \"+Categories[model.predict(l)[0]])\n",
        "print(f'Is the image a {Categories[model.predict(l)[0]]} ?(y/n)')\n",
        "while(True):\n",
        "  b=input()\n",
        "  if(b==\"y\" or b==\"n\"):\n",
        "    break\n",
        "  print(\"por favor entre com y or n\")\n",
        "\n",
        "if(b=='n'):\n",
        "  print(\"O que eh esta imagem?\")\n",
        "  for i in range(len(Categories)):\n",
        "    print(f\"Enter {i} para {Categories[i]}\")\n",
        "  k=int(input())\n",
        "  while(k<0 or k>=len(Categories)):\n",
        "    print(f\"Por favor entre um numero valido entre 0-{len(Categories)-1}\")\n",
        "    k=int(input())\n",
        "  print(\"Por favor, espere um pouco para que o modelo aprenda com esta imagem :)\")\n",
        "  flat_arr=flat_data_arr.copy()\n",
        "  tar_arr=target_arr.copy()\n",
        "  tar_arr.append(k)\n",
        "  flat_arr.extend(l)\n",
        "  tar_arr=np.array(tar_arr)\n",
        "  flat_df=np.array(flat_arr)\n",
        "  df1=pd.DataFrame(flat_df)\n",
        "  df1['Target']=tar_arr\n",
        "  model1=GridSearchCV(svc,param_grid)\n",
        "  x1=df1.iloc[:,:-1]\n",
        "  y1=df1.iloc[:,-1]\n",
        "  x_train1,x_test1,y_train1,y_test1=train_test_split(x1,y1,test_size=0.20,random_state=77,stratify=y1)\n",
        "  d={}\n",
        "  for i in model.best_params_:\n",
        "    d[i]=[model.best_params_[i]]\n",
        "  model1=GridSearchCV(svc,d)\n",
        "  model1.fit(x_train1,y_train1)\n",
        "  y_pred1=model.predict(x_test1)\n",
        "  print(f\"O modelo agora tem {accuracy_score(y_pred1,y_test1)*100}% acuracia\")\n",
        "  pickle.dump(model1,open('img_model.p','wb'))\n",
        "print(\"Obrigada pelo feedback\")\n"
      ],
      "execution_count": 13,
      "outputs": [
        {
          "name": "stdout",
          "output_type": "stream",
          "text": [
            "URL da Imagem: /content/drive/MyDrive/Teste/AVC/001_FLAIR06.bmp\n"
          ]
        },
        {
          "output_type": "display_data",
          "data": {
            "text/plain": [
              "<Figure size 432x288 with 1 Axes>"
            ],
            "image/png": "[encoded data removed]"
          },
          "metadata": {
            "needs_background": "light"
          }
        },
        {
          "output_type": "stream",
          "name": "stdout",
          "text": [
            "AVC = 56.11478066351114%\n",
            "EM = 43.885219336488845%\n",
            "The predicted image is : AVC\n",
            "Is the image a AVC ?(y/n)\n",
            "y\n",
            "Obrigada pelo feedback\n"
          ]
        }
      ]
    },
    {
      "cell_type": "code",
      "source": [
        "from yellowbrick.classifier import ROCAUC\n",
        "\n",
        "def plot_ROC_curve(model, xtrain, ytrain, xtest, ytest):\n",
        "\n",
        "    # Creating visualization with the readable labels\n",
        "    visualizer = ROCAUC(model, encoder={0: 'AVC', \n",
        "                                        1: 'EM'})\n",
        "                                        \n",
        "    # Fitting to the training data first then scoring with the test data                                    \n",
        "    visualizer.fit(xtrain, ytrain)\n",
        "    visualizer.score(xtest, ytest)\n",
        "    visualizer.show()\n",
        "    \n",
        "    return visualizer\n",
        "\n",
        "plot_ROC_curve(model, x_train, y_train, x_test, y_test)"
      ],
      "metadata": {
        "colab": {
          "base_uri": "https://localhost:8080/",
          "height": 487
        },
        "id": "-Ye7Jc1bBHOK",
        "outputId": "ba9cd24c-969b-408d-97ef-3aaf68183ab9"
      },
      "execution_count": 14,
      "outputs": [
        {
          "output_type": "display_data",
          "data": {
            "text/plain": [
              "<Figure size 576x396 with 1 Axes>"
            ],
            "image/png": "[encoded data removed]"
          },
          "metadata": {}
        },
        {
          "output_type": "execute_result",
          "data": {
            "text/plain": [
              "ROCAUC(ax=<matplotlib.axes._subplots.AxesSubplot object at 0x7fbe278b2450>,\n",
              "       encoder={0: 'AVC', 1: 'EM'},\n",
              "       estimator=GridSearchCV(estimator=SVC(probability=True),\n",
              "                              param_grid={'C': [0.1, 1, 10, 100],\n",
              "                                          'gamma': [0.0001, 0.001, 0.1, 1],\n",
              "                                          'kernel': ['rbf', 'poly']}))"
            ]
          },
          "metadata": {},
          "execution_count": 14
        }
      ]
    }
  ]
}