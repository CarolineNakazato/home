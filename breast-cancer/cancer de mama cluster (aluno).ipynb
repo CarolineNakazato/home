{
 "cells": [
  {
   "cell_type": "markdown",
   "id": "323a3453",
   "metadata": {},
   "source": [
    "\n",
    "\n",
    "<font size=\"6\">**K-Means em Base de Dados de Câncer de Mama**</font>\n",
    "\n",
    "- A base de dados exibe uma série de atributos que são imagens digitais das células cancerígenas. \n",
    "\n",
    "- O algoritmo K-Means faz o agrupamento através da similaridade de atributos. Contudo, a similaridade é uma medida que, por si só, é extremamente subjetiva. Desse modo , são escolhidos k objetos (centroides) que serão a base de cada grupo. Assim, a similaridade entre os grupos será definida pela distância dos novos objetos aos centroides; \n",
    "\n",
    "- aquele que possuir a menor distância será definido como o grupo para o o novo objeto.\n",
    "\n",
    "- Classes obtidas: classe B ou M (Benigno ou Maligno)"
   ]
  },
  {
   "cell_type": "code",
   "execution_count": 9,
   "id": "0c991ec9",
   "metadata": {},
   "outputs": [],
   "source": [
    "# Carregar as bibliotecas necessárias: \n",
    "\n",
    "import seaborn as sns\n",
    "import matplotlib.pyplot as plt\n",
    "import pandas as pd\n",
    "import numpy as np\n",
    "from sklearn.neighbors import KNeighborsClassifier\n",
    "from sklearn.model_selection import train_test_split\n",
    "from sklearn.model_selection import cross_val_score \n",
    "\n",
    "from sklearn import metrics\n",
    "\n",
    "from sklearn.cluster import KMeans\n",
    "\n",
    "\n",
    "# Carregar a base de dados:\n",
    "\n",
    "dados = pd.read_csv(\"data_cancer_mama.csv\")"
   ]
  },
  {
   "cell_type": "markdown",
   "id": "dd6f182c",
   "metadata": {},
   "source": [
    " <font size=\"5\">             **Roteiro**        </font>\n"
   ]
  },
  {
   "cell_type": "markdown",
   "id": "da3d9657",
   "metadata": {},
   "source": [
    "- Remova atributos desnecessários ou que não devem ser processados pelo algoritmo.O atributo que representa as classes, no caso a coluna \"diagnosis\", é separado dos demais atributos, que são efetivamente os dados que serão analisados.\n"
   ]
  },
  {
   "cell_type": "code",
   "execution_count": null,
   "id": "b7d79d86",
   "metadata": {},
   "outputs": [],
   "source": []
  },
  {
   "cell_type": "markdown",
   "id": "a698a33f",
   "metadata": {},
   "source": [
    "<font size=\"4\">**Aplicar PCA no conjunto de dados**</font>\n",
    "\n",
    "Existe uma técnica de Análise de Componentes Principais (PCA), cuja ideia principal é reduzir a dimensionalidade de um conjunto de dados que consiste em muitas variáveis correlacionadas entre si, seja de maneira forte ou leve, mantendo a variação presente no conjunto de dados até a extensão máxima.\n",
    "\n",
    "- **Aplique PCA nos dados carregados utilizando 2 componentes (Primeiramente é necessária fazer uma transformação dos dados)**"
   ]
  },
  {
   "cell_type": "markdown",
   "id": "8f5bbf80",
   "metadata": {},
   "source": [
    "- *Bibliotecas necessárias:*"
   ]
  },
  {
   "cell_type": "code",
   "execution_count": 11,
   "id": "49825ff5",
   "metadata": {},
   "outputs": [],
   "source": [
    "from sklearn.preprocessing import StandardScaler\n",
    "from sklearn.decomposition import PCA\n"
   ]
  },
  {
   "cell_type": "markdown",
   "id": "85ea515e",
   "metadata": {},
   "source": [
    "- **Plote o gráfico de dispersão 2D utilizando a coluna diagnosis como target** "
   ]
  },
  {
   "cell_type": "markdown",
   "id": "9ae27b4f",
   "metadata": {},
   "source": [
    "<font size=\"5\">**Determinar valor de K**</font>"
   ]
  },
  {
   "cell_type": "markdown",
   "id": "a22a088b",
   "metadata": {},
   "source": [
    "\n",
    "    \n",
    "- **Plote o gráfico que confronta quantidade de clusters(k) com a medida de validação Inertia que é a soma dos erros quadrados de cada ponto de um cluster com seu centroide, utilize o método da curva de cotovelo para definir o número ideal de clusters.**"
   ]
  },
  {
   "cell_type": "markdown",
   "id": "83ce4553",
   "metadata": {},
   "source": [
    "- **Em seguida aplique o algoritmo K-Means com o número de clusters definidos e mostre os resultados graficamente.**"
   ]
  },
  {
   "cell_type": "code",
   "execution_count": null,
   "id": "b79ecb83",
   "metadata": {},
   "outputs": [],
   "source": []
  },
  {
   "cell_type": "markdown",
   "id": "730d2f16",
   "metadata": {},
   "source": [
    "<font size=\"5\">**Validação**</font>\n",
    "\n",
    "Calcule a Porcentagem de Acerto do modelo, ou seja, verifique o quanto os clusters formados correspondem às classes esperadas."
   ]
  },
  {
   "cell_type": "code",
   "execution_count": null,
   "id": "d926b508",
   "metadata": {},
   "outputs": [],
   "source": []
  },
  {
   "cell_type": "markdown",
   "id": "3cfb7ff6",
   "metadata": {},
   "source": [
    "<font size=\"4\">**Conclusão**</font>\n",
    "\n",
    "-  que é possível concluir sobre a aplicação do algoritmo K-means e sobre a porcentagem de acerto ?"
   ]
  },
  {
   "cell_type": "code",
   "execution_count": null,
   "id": "301b8c9c",
   "metadata": {},
   "outputs": [],
   "source": []
  }
 ],
 "metadata": {
  "celltoolbar": "Raw Cell Format",
  "kernelspec": {
   "display_name": "Python 3 (ipykernel)",
   "language": "python",
   "name": "python3"
  },
  "language_info": {
   "codemirror_mode": {
    "name": "ipython",
    "version": 3
   },
   "file_extension": ".py",
   "mimetype": "text/x-python",
   "name": "python",
   "nbconvert_exporter": "python",
   "pygments_lexer": "ipython3",
   "version": "3.9.7"
  }
 },
 "nbformat": 4,
 "nbformat_minor": 5
}
